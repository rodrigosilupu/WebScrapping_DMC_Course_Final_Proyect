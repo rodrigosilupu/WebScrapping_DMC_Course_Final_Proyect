{
 "cells": [
  {
   "cell_type": "markdown",
   "metadata": {},
   "source": [
    "# Pregunta 1"
   ]
  },
  {
   "cell_type": "markdown",
   "metadata": {},
   "source": [
    "Dado que yo uso el entorno de Visual Studio Code:"
   ]
  },
  {
   "cell_type": "code",
   "execution_count": 7,
   "metadata": {},
   "outputs": [
    {
     "name": "stdout",
     "output_type": "stream",
     "text": [
      "Requirement already satisfied: selenium in c:\\users\\rodrigo\\appdata\\local\\programs\\python\\python311\\lib\\site-packages (4.13.0)\n",
      "Requirement already satisfied: urllib3[socks]<3,>=1.26 in c:\\users\\rodrigo\\appdata\\local\\programs\\python\\python311\\lib\\site-packages (from selenium) (2.0.4)\n",
      "Requirement already satisfied: trio~=0.17 in c:\\users\\rodrigo\\appdata\\local\\programs\\python\\python311\\lib\\site-packages (from selenium) (0.22.2)\n",
      "Requirement already satisfied: trio-websocket~=0.9 in c:\\users\\rodrigo\\appdata\\local\\programs\\python\\python311\\lib\\site-packages (from selenium) (0.11.1)\n",
      "Requirement already satisfied: certifi>=2021.10.8 in c:\\users\\rodrigo\\appdata\\local\\programs\\python\\python311\\lib\\site-packages (from selenium) (2023.5.7)\n",
      "Requirement already satisfied: attrs>=20.1.0 in c:\\users\\rodrigo\\appdata\\local\\programs\\python\\python311\\lib\\site-packages (from trio~=0.17->selenium) (23.1.0)\n",
      "Requirement already satisfied: sortedcontainers in c:\\users\\rodrigo\\appdata\\local\\programs\\python\\python311\\lib\\site-packages (from trio~=0.17->selenium) (2.4.0)\n",
      "Requirement already satisfied: idna in c:\\users\\rodrigo\\appdata\\local\\programs\\python\\python311\\lib\\site-packages (from trio~=0.17->selenium) (3.4)\n",
      "Requirement already satisfied: outcome in c:\\users\\rodrigo\\appdata\\local\\programs\\python\\python311\\lib\\site-packages (from trio~=0.17->selenium) (1.2.0)\n",
      "Requirement already satisfied: sniffio in c:\\users\\rodrigo\\appdata\\local\\programs\\python\\python311\\lib\\site-packages (from trio~=0.17->selenium) (1.3.0)\n",
      "Requirement already satisfied: cffi>=1.14 in c:\\users\\rodrigo\\appdata\\local\\programs\\python\\python311\\lib\\site-packages (from trio~=0.17->selenium) (1.16.0)\n",
      "Requirement already satisfied: wsproto>=0.14 in c:\\users\\rodrigo\\appdata\\local\\programs\\python\\python311\\lib\\site-packages (from trio-websocket~=0.9->selenium) (1.2.0)\n",
      "Requirement already satisfied: pysocks!=1.5.7,<2.0,>=1.5.6 in c:\\users\\rodrigo\\appdata\\local\\programs\\python\\python311\\lib\\site-packages (from urllib3[socks]<3,>=1.26->selenium) (1.7.1)\n",
      "Requirement already satisfied: pycparser in c:\\users\\rodrigo\\appdata\\local\\programs\\python\\python311\\lib\\site-packages (from cffi>=1.14->trio~=0.17->selenium) (2.21)\n",
      "Requirement already satisfied: h11<1,>=0.9.0 in c:\\users\\rodrigo\\appdata\\local\\programs\\python\\python311\\lib\\site-packages (from wsproto>=0.14->trio-websocket~=0.9->selenium) (0.14.0)\n"
     ]
    }
   ],
   "source": [
    "!pip install selenium\n",
    "\n",
    "# Llamado a librería webdriver\n",
    "from selenium import webdriver\n",
    "from selenium.webdriver.chrome.service import Service\n",
    "from selenium.webdriver.common.by import By\n",
    "import requests\n",
    "import re\n",
    "from lxml import html\n",
    "import pandas as pd\n"
   ]
  },
  {
   "cell_type": "markdown",
   "metadata": {},
   "source": [
    "# Pregunta 2 y 3"
   ]
  },
  {
   "cell_type": "code",
   "execution_count": 8,
   "metadata": {},
   "outputs": [],
   "source": [
    "#Pregunta 2 y 3\n",
    "browser = webdriver.Chrome()\n",
    "browser.get('https://books.toscrape.com/catalogue/category/books/science-fiction_16/index.html')"
   ]
  },
  {
   "cell_type": "markdown",
   "metadata": {},
   "source": [
    "# Pregunta 4:\n",
    "\n",
    "Primero, extraigo el Título:\n",
    "\n",
    "\n",
    "![imagen1](https://github.com/rodrigosilupu/DMC_WS/blob/main/p4_titulo.png?raw=true)\n",
    "\n"
   ]
  },
  {
   "cell_type": "code",
   "execution_count": 9,
   "metadata": {},
   "outputs": [
    {
     "name": "stdout",
     "output_type": "stream",
     "text": [
      "Mesaerion: The Best Science Fiction Stories 1800-1849\n"
     ]
    }
   ],
   "source": [
    "#título\n",
    "title=browser.find_element(By.XPATH, '//ol/li[1]/article/h3/a').get_attribute('title')\n",
    "print(title)"
   ]
  },
  {
   "cell_type": "markdown",
   "metadata": {},
   "source": [
    "Luego, extraigo el Precio:\n",
    "\n",
    "![imagen2](https://github.com/rodrigosilupu/DMC_WS/blob/main/p4_precio.png?raw=true)\n",
    "\n"
   ]
  },
  {
   "cell_type": "code",
   "execution_count": 10,
   "metadata": {},
   "outputs": [
    {
     "name": "stdout",
     "output_type": "stream",
     "text": [
      "37.59\n"
     ]
    }
   ],
   "source": [
    "#precio\n",
    "price=browser.find_element(By.XPATH, '//ol/li[1]/article/div[@class=\"product_price\"]/p[1]').text\n",
    "price= re.search(r'(\\d+\\.\\d+)', price).group(1)\n",
    "print(price)"
   ]
  },
  {
   "cell_type": "markdown",
   "metadata": {},
   "source": [
    "Luego extraigo la disponibilidad:\n",
    "\n",
    "![imagen3](https://github.com/rodrigosilupu/DMC_WS/blob/main/p4_disponibilidad.png?raw=true)"
   ]
  },
  {
   "cell_type": "code",
   "execution_count": 11,
   "metadata": {},
   "outputs": [
    {
     "name": "stdout",
     "output_type": "stream",
     "text": [
      "In stock\n"
     ]
    }
   ],
   "source": [
    "#disponibilidad\n",
    "availability=browser.find_element(By.XPATH, '//ol/li[1]/article/div[@class=\"product_price\"]/p[2]').text\n",
    "print(availability)"
   ]
  },
  {
   "cell_type": "markdown",
   "metadata": {},
   "source": [
    "El número de estrellas:\n",
    "\n",
    "![Imagen4](https://github.com/rodrigosilupu/DMC_WS/blob/main/p4_rating.png?raw=true)"
   ]
  },
  {
   "cell_type": "code",
   "execution_count": 12,
   "metadata": {},
   "outputs": [
    {
     "name": "stdout",
     "output_type": "stream",
     "text": [
      "1\n"
     ]
    }
   ],
   "source": [
    "# Nro de estrellas:\n",
    "rating_class = browser.find_element(By.XPATH, '//ol/li[1]/article/p').get_attribute('class').split()[1]\n",
    "def text_to_number(text):\n",
    "    mapping = {\n",
    "        \"Zero\": 0,\n",
    "        \"One\": 1,\n",
    "        \"Two\": 2,\n",
    "        \"Three\": 3,\n",
    "        \"Four\": 4,\n",
    "        \"Five\": 5\n",
    "    }\n",
    "    return mapping.get(text, 0)\n",
    "number_of_stars = text_to_number(rating_class)\n",
    "print(number_of_stars)"
   ]
  },
  {
   "cell_type": "markdown",
   "metadata": {},
   "source": [
    "El link del libro:\n",
    "\n",
    "![img10](https://github.com/rodrigosilupu/DMC_WS/blob/main/p4_link.png?raw=true)"
   ]
  },
  {
   "cell_type": "code",
   "execution_count": 13,
   "metadata": {},
   "outputs": [
    {
     "name": "stdout",
     "output_type": "stream",
     "text": [
      "https://books.toscrape.com/catalogue/mesaerion-the-best-science-fiction-stories-1800-1849_983/index.html\n"
     ]
    }
   ],
   "source": [
    "#link del libro\n",
    "link=browser.find_element(By.XPATH, '//ol/li[1]/article/h3/a').get_attribute('href')\n",
    "print(link)"
   ]
  },
  {
   "cell_type": "markdown",
   "metadata": {},
   "source": [
    "Finalmente, la descripción del libro:\n",
    "\n",
    "![img20](https://github.com/rodrigosilupu/DMC_WS/blob/main/p4_descipcion.png?raw=true)"
   ]
  },
  {
   "cell_type": "code",
   "execution_count": 14,
   "metadata": {},
   "outputs": [
    {
     "name": "stdout",
     "output_type": "stream",
     "text": [
      "Andrew Barger, award-winning author and engineer, has extensively researched forgotten journals and magazines of the early 19th century to locate groundbreaking science fiction short stories in the English language. In doing so, he found what is possibly the first science fiction story by a female (and it is not from Mary Shelley). Andrew located the first steampunk short Andrew Barger, award-winning author and engineer, has extensively researched forgotten journals and magazines of the early 19th century to locate groundbreaking science fiction short stories in the English language. In doing so, he found what is possibly the first science fiction story by a female (and it is not from Mary Shelley). Andrew located the first steampunk short story, which has not been republished since 1844. There is the first voyage to the moon in a balloon, republished for the first time since 1820 that further tells of a darkness machine and a lunarian named Zuloc. Other sci-stories include the first robotic insect and an electricity gun. Once again, Andrew has searched old texts to find the very best science fiction stories from the period when the genre automated to life, some of the stories are published for the first time in nearly 200 years. Read these fantastic stories today!OUR OWN COUNTRY So mechanical has the age become, that men seriously talk of flying machines, to go by steam, --not your air-balloons, but real Daedalian wings, made of wood and joints, nailed to your shoulder, --not wings of feathers and wax like the wings of Icarus, who fell into the Cretan sea, but real, solid, substantial, rock-maple wings with wrought-iron hinges, and huge concavities, to propel us through the air. Knickerbocker Magazine, May 18 ...more\n"
     ]
    }
   ],
   "source": [
    "#description\n",
    "rl=requests.get(link)\n",
    "tree_detail=html.fromstring(rl.content)\n",
    "description=tree_detail.xpath('//article/p')[0].text\n",
    "print(description)"
   ]
  },
  {
   "cell_type": "markdown",
   "metadata": {},
   "source": [
    "# Pregunta 5"
   ]
  },
  {
   "cell_type": "markdown",
   "metadata": {},
   "source": [
    "Iteramos para obtener las categorías de todas las películas"
   ]
  },
  {
   "cell_type": "code",
   "execution_count": 15,
   "metadata": {},
   "outputs": [
    {
     "data": {
      "text/html": [
       "<div>\n",
       "<style scoped>\n",
       "    .dataframe tbody tr th:only-of-type {\n",
       "        vertical-align: middle;\n",
       "    }\n",
       "\n",
       "    .dataframe tbody tr th {\n",
       "        vertical-align: top;\n",
       "    }\n",
       "\n",
       "    .dataframe thead th {\n",
       "        text-align: right;\n",
       "    }\n",
       "</style>\n",
       "<table border=\"1\" class=\"dataframe\">\n",
       "  <thead>\n",
       "    <tr style=\"text-align: right;\">\n",
       "      <th></th>\n",
       "      <th>Title</th>\n",
       "      <th>Rating</th>\n",
       "      <th>Availability</th>\n",
       "      <th>Price</th>\n",
       "      <th>Link</th>\n",
       "      <th>Description</th>\n",
       "    </tr>\n",
       "  </thead>\n",
       "  <tbody>\n",
       "    <tr>\n",
       "      <th>0</th>\n",
       "      <td>Mesaerion: The Best Science Fiction Stories 18...</td>\n",
       "      <td>1</td>\n",
       "      <td>In stock</td>\n",
       "      <td>37.59</td>\n",
       "      <td>https://books.toscrape.com/catalogue/mesaerion...</td>\n",
       "      <td>Andrew Barger, award-winning author and engine...</td>\n",
       "    </tr>\n",
       "    <tr>\n",
       "      <th>1</th>\n",
       "      <td>Join</td>\n",
       "      <td>5</td>\n",
       "      <td>In stock</td>\n",
       "      <td>35.67</td>\n",
       "      <td>https://books.toscrape.com/catalogue/join_902/...</td>\n",
       "      <td>What if you could live multiple lives simultan...</td>\n",
       "    </tr>\n",
       "    <tr>\n",
       "      <th>2</th>\n",
       "      <td>William Shakespeare's Star Wars: Verily, A New...</td>\n",
       "      <td>4</td>\n",
       "      <td>In stock</td>\n",
       "      <td>43.30</td>\n",
       "      <td>https://books.toscrape.com/catalogue/william-s...</td>\n",
       "      <td>MAY THE VERSE BE WITH YOU!Return once more to ...</td>\n",
       "    </tr>\n",
       "    <tr>\n",
       "      <th>3</th>\n",
       "      <td>The Project</td>\n",
       "      <td>1</td>\n",
       "      <td>In stock</td>\n",
       "      <td>10.65</td>\n",
       "      <td>https://books.toscrape.com/catalogue/the-proje...</td>\n",
       "      <td>Welcome to Adrianna, a new country isolated fo...</td>\n",
       "    </tr>\n",
       "    <tr>\n",
       "      <th>4</th>\n",
       "      <td>Soft Apocalypse</td>\n",
       "      <td>2</td>\n",
       "      <td>In stock</td>\n",
       "      <td>26.12</td>\n",
       "      <td>https://books.toscrape.com/catalogue/soft-apoc...</td>\n",
       "      <td>What happens when resources become scarce and ...</td>\n",
       "    </tr>\n",
       "    <tr>\n",
       "      <th>5</th>\n",
       "      <td>Sleeping Giants (Themis Files #1)</td>\n",
       "      <td>1</td>\n",
       "      <td>In stock</td>\n",
       "      <td>48.74</td>\n",
       "      <td>https://books.toscrape.com/catalogue/sleeping-...</td>\n",
       "      <td>A page-turning debut in the tradition of Micha...</td>\n",
       "    </tr>\n",
       "    <tr>\n",
       "      <th>6</th>\n",
       "      <td>Arena</td>\n",
       "      <td>4</td>\n",
       "      <td>In stock</td>\n",
       "      <td>21.36</td>\n",
       "      <td>https://books.toscrape.com/catalogue/arena_587...</td>\n",
       "      <td>A fast-paced and gripping near-future science ...</td>\n",
       "    </tr>\n",
       "    <tr>\n",
       "      <th>7</th>\n",
       "      <td>Foundation (Foundation (Publication Order) #1)</td>\n",
       "      <td>1</td>\n",
       "      <td>In stock</td>\n",
       "      <td>32.42</td>\n",
       "      <td>https://books.toscrape.com/catalogue/foundatio...</td>\n",
       "      <td>For twelve thousand years the Galactic Empire ...</td>\n",
       "    </tr>\n",
       "    <tr>\n",
       "      <th>8</th>\n",
       "      <td>The Restaurant at the End of the Universe (Hit...</td>\n",
       "      <td>1</td>\n",
       "      <td>In stock</td>\n",
       "      <td>10.92</td>\n",
       "      <td>https://books.toscrape.com/catalogue/the-resta...</td>\n",
       "      <td>Facing annihilation at the hands of the warlik...</td>\n",
       "    </tr>\n",
       "    <tr>\n",
       "      <th>9</th>\n",
       "      <td>Ready Player One</td>\n",
       "      <td>4</td>\n",
       "      <td>In stock</td>\n",
       "      <td>19.07</td>\n",
       "      <td>https://books.toscrape.com/catalogue/ready-pla...</td>\n",
       "      <td>In the year 2044, reality is an ugly place. Th...</td>\n",
       "    </tr>\n",
       "    <tr>\n",
       "      <th>10</th>\n",
       "      <td>Life, the Universe and Everything (Hitchhiker'...</td>\n",
       "      <td>2</td>\n",
       "      <td>In stock</td>\n",
       "      <td>33.26</td>\n",
       "      <td>https://books.toscrape.com/catalogue/life-the-...</td>\n",
       "      <td>The unhappy inhabitants of planet Krikkit are ...</td>\n",
       "    </tr>\n",
       "    <tr>\n",
       "      <th>11</th>\n",
       "      <td>Dune (Dune #1)</td>\n",
       "      <td>1</td>\n",
       "      <td>In stock</td>\n",
       "      <td>54.86</td>\n",
       "      <td>https://books.toscrape.com/catalogue/dune-dune...</td>\n",
       "      <td>Set in the far future amidst a sprawling feuda...</td>\n",
       "    </tr>\n",
       "    <tr>\n",
       "      <th>12</th>\n",
       "      <td>Do Androids Dream of Electric Sheep? (Blade Ru...</td>\n",
       "      <td>1</td>\n",
       "      <td>In stock</td>\n",
       "      <td>51.48</td>\n",
       "      <td>https://books.toscrape.com/catalogue/do-androi...</td>\n",
       "      <td>By 2021, the World War has killed millions, dr...</td>\n",
       "    </tr>\n",
       "    <tr>\n",
       "      <th>13</th>\n",
       "      <td>Three Wishes (River of Time: California #1)</td>\n",
       "      <td>2</td>\n",
       "      <td>In stock</td>\n",
       "      <td>44.18</td>\n",
       "      <td>https://books.toscrape.com/catalogue/three-wis...</td>\n",
       "      <td>BE CAREFUL WHAT YOU WISH FOR. BECAUSE YOU JUST...</td>\n",
       "    </tr>\n",
       "    <tr>\n",
       "      <th>14</th>\n",
       "      <td>The Last Girl (The Dominion Trilogy #1)</td>\n",
       "      <td>2</td>\n",
       "      <td>In stock</td>\n",
       "      <td>36.26</td>\n",
       "      <td>https://books.toscrape.com/catalogue/the-last-...</td>\n",
       "      <td>A mysterious worldwide epidemic reduces the bi...</td>\n",
       "    </tr>\n",
       "    <tr>\n",
       "      <th>15</th>\n",
       "      <td>Having the Barbarian's Baby (Ice Planet Barbar...</td>\n",
       "      <td>4</td>\n",
       "      <td>In stock</td>\n",
       "      <td>34.96</td>\n",
       "      <td>https://books.toscrape.com/catalogue/having-th...</td>\n",
       "      <td>Megan’s ready to give birth, but she’s not rea...</td>\n",
       "    </tr>\n",
       "  </tbody>\n",
       "</table>\n",
       "</div>"
      ],
      "text/plain": [
       "                                                Title  Rating Availability  \\\n",
       "0   Mesaerion: The Best Science Fiction Stories 18...       1     In stock   \n",
       "1                                                Join       5     In stock   \n",
       "2   William Shakespeare's Star Wars: Verily, A New...       4     In stock   \n",
       "3                                         The Project       1     In stock   \n",
       "4                                     Soft Apocalypse       2     In stock   \n",
       "5                   Sleeping Giants (Themis Files #1)       1     In stock   \n",
       "6                                               Arena       4     In stock   \n",
       "7      Foundation (Foundation (Publication Order) #1)       1     In stock   \n",
       "8   The Restaurant at the End of the Universe (Hit...       1     In stock   \n",
       "9                                    Ready Player One       4     In stock   \n",
       "10  Life, the Universe and Everything (Hitchhiker'...       2     In stock   \n",
       "11                                     Dune (Dune #1)       1     In stock   \n",
       "12  Do Androids Dream of Electric Sheep? (Blade Ru...       1     In stock   \n",
       "13        Three Wishes (River of Time: California #1)       2     In stock   \n",
       "14            The Last Girl (The Dominion Trilogy #1)       2     In stock   \n",
       "15  Having the Barbarian's Baby (Ice Planet Barbar...       4     In stock   \n",
       "\n",
       "    Price                                               Link  \\\n",
       "0   37.59  https://books.toscrape.com/catalogue/mesaerion...   \n",
       "1   35.67  https://books.toscrape.com/catalogue/join_902/...   \n",
       "2   43.30  https://books.toscrape.com/catalogue/william-s...   \n",
       "3   10.65  https://books.toscrape.com/catalogue/the-proje...   \n",
       "4   26.12  https://books.toscrape.com/catalogue/soft-apoc...   \n",
       "5   48.74  https://books.toscrape.com/catalogue/sleeping-...   \n",
       "6   21.36  https://books.toscrape.com/catalogue/arena_587...   \n",
       "7   32.42  https://books.toscrape.com/catalogue/foundatio...   \n",
       "8   10.92  https://books.toscrape.com/catalogue/the-resta...   \n",
       "9   19.07  https://books.toscrape.com/catalogue/ready-pla...   \n",
       "10  33.26  https://books.toscrape.com/catalogue/life-the-...   \n",
       "11  54.86  https://books.toscrape.com/catalogue/dune-dune...   \n",
       "12  51.48  https://books.toscrape.com/catalogue/do-androi...   \n",
       "13  44.18  https://books.toscrape.com/catalogue/three-wis...   \n",
       "14  36.26  https://books.toscrape.com/catalogue/the-last-...   \n",
       "15  34.96  https://books.toscrape.com/catalogue/having-th...   \n",
       "\n",
       "                                          Description  \n",
       "0   Andrew Barger, award-winning author and engine...  \n",
       "1   What if you could live multiple lives simultan...  \n",
       "2   MAY THE VERSE BE WITH YOU!Return once more to ...  \n",
       "3   Welcome to Adrianna, a new country isolated fo...  \n",
       "4   What happens when resources become scarce and ...  \n",
       "5   A page-turning debut in the tradition of Micha...  \n",
       "6   A fast-paced and gripping near-future science ...  \n",
       "7   For twelve thousand years the Galactic Empire ...  \n",
       "8   Facing annihilation at the hands of the warlik...  \n",
       "9   In the year 2044, reality is an ugly place. Th...  \n",
       "10  The unhappy inhabitants of planet Krikkit are ...  \n",
       "11  Set in the far future amidst a sprawling feuda...  \n",
       "12  By 2021, the World War has killed millions, dr...  \n",
       "13  BE CAREFUL WHAT YOU WISH FOR. BECAUSE YOU JUST...  \n",
       "14  A mysterious worldwide epidemic reduces the bi...  \n",
       "15  Megan’s ready to give birth, but she’s not rea...  "
      ]
     },
     "execution_count": 15,
     "metadata": {},
     "output_type": "execute_result"
    }
   ],
   "source": [
    "# Nro de estrellas\n",
    "rating_classes = browser.find_elements(By.XPATH, '//ol/li/article/p')\n",
    "def text_to_number(text):\n",
    "    mapping = {\n",
    "        \"Zero\": 0,\n",
    "        \"One\": 1,\n",
    "        \"Two\": 2,\n",
    "        \"Three\": 3,\n",
    "        \"Four\": 4,\n",
    "        \"Five\": 5\n",
    "    }\n",
    "    return mapping.get(text, 0)\n",
    "\n",
    "ratings = [text_to_number(rating_class.get_attribute('class').split()[1]) for rating_class in rating_classes]\n",
    "\n",
    "# Disponibilidad\n",
    "availabilities = [availability.text for availability in browser.find_elements(By.XPATH, '//ol/li/article/div[@class=\"product_price\"]/p[2]')]\n",
    "\n",
    "# Precios\n",
    "prices = [price.text for price in browser.find_elements(By.XPATH, '//ol/li/article/div[@class=\"product_price\"]/p[1]')]\n",
    "prices = [re.search(r'(\\d+\\.\\d+)', price).group(1) for price in prices]\n",
    "# Títulos\n",
    "titles = [title.get_attribute('title') for title in browser.find_elements(By.XPATH, '//ol/li/article/h3/a')]\n",
    "\n",
    "\n",
    "# Itera sobre los elementos y obtiene el atributo 'href' de cada uno\n",
    "links = [link.get_attribute('href') for link in browser.find_elements(By.XPATH, '//ol/li/article/h3/a')]\n",
    "\n",
    "\n",
    "#descripciones\n",
    "descriptions_list = []\n",
    "\n",
    "for link in links:\n",
    "    try:\n",
    "        rl = requests.get(link)\n",
    "        tree_detail = html.fromstring(rl.content)\n",
    "        description_elements = tree_detail.xpath('//article/p')\n",
    "        if description_elements:\n",
    "            descriptions_list.append(description_elements[0].text)\n",
    "        else:\n",
    "            print(f\"No se encontró descripción para el enlace: {link}\")\n",
    "    except Exception as e:\n",
    "        print(f\"Error procesando el enlace {link}: {e}\")\n",
    "\n",
    "\n",
    "\n",
    "# Crear DataFrame\n",
    "df = pd.DataFrame({\n",
    "    'Title': titles,\n",
    "    'Rating': ratings,\n",
    "    'Availability': availabilities,\n",
    "    'Price': prices,\n",
    "    'Link': links,\n",
    "    'Description': descriptions_list\n",
    "})\n",
    "\n",
    "df.head(16)"
   ]
  },
  {
   "cell_type": "markdown",
   "metadata": {},
   "source": [
    "# Pregunta 6\n",
    "\n",
    "Si quiero convertir la data, siguiendo las pautas de la clase, en formato Json, debo convertir mi dataframe en listas de diccionarios"
   ]
  },
  {
   "cell_type": "code",
   "execution_count": 16,
   "metadata": {},
   "outputs": [],
   "source": [
    "import json\n",
    "list_data = df.to_dict(orient='records')\n",
    "name='books_data'\n",
    "path_fname = f'D:/DMC/PEA ADVANCED DATA SCIENCE/Web Scraping/tarea/output/{name}.json'\n",
    "  # Reemplaza esto con la ruta donde deseas guardar el archivo\n",
    "f = open(path_fname, 'w')\n",
    "f.write(json.dumps(list_data, indent=4)) \n",
    "f.close()"
   ]
  },
  {
   "cell_type": "markdown",
   "metadata": {},
   "source": [
    "![img30](https://github.com/rodrigosilupu/DMC_WS/blob/main/json_data.png?raw=true)"
   ]
  },
  {
   "cell_type": "markdown",
   "metadata": {},
   "source": [
    "O, desde pandas directamente puedo guardar también a CSV"
   ]
  },
  {
   "cell_type": "code",
   "execution_count": 19,
   "metadata": {},
   "outputs": [],
   "source": [
    "path_fname = f'D:/DMC/PEA ADVANCED DATA SCIENCE/Web Scraping/tarea/output/{name}.csv'\n",
    "df.to_csv(path_fname, sep=\";\", index=False, encoding='utf-8')"
   ]
  },
  {
   "cell_type": "markdown",
   "metadata": {},
   "source": [
    "![img40](https://github.com/rodrigosilupu/DMC_WS/blob/main/csv_data.png?raw=true)"
   ]
  },
  {
   "cell_type": "markdown",
   "metadata": {},
   "source": [
    "![img5](https://github.com/rodrigosilupu/DMC_WS/blob/main/p6.png?raw=true)"
   ]
  },
  {
   "cell_type": "code",
   "execution_count": 18,
   "metadata": {},
   "outputs": [],
   "source": [
    "browser.quit()"
   ]
  },
  {
   "cell_type": "code",
   "execution_count": null,
   "metadata": {},
   "outputs": [],
   "source": []
  }
 ],
 "metadata": {
  "kernelspec": {
   "display_name": "Python 3",
   "language": "python",
   "name": "python3"
  },
  "language_info": {
   "codemirror_mode": {
    "name": "ipython",
    "version": 3
   },
   "file_extension": ".py",
   "mimetype": "text/x-python",
   "name": "python",
   "nbconvert_exporter": "python",
   "pygments_lexer": "ipython3",
   "version": "3.11.5"
  }
 },
 "nbformat": 4,
 "nbformat_minor": 2
}
